{
 "cells": [
  {
   "cell_type": "code",
   "execution_count": 4,
   "id": "03e076c9-a469-472a-80c5-6859d71daf24",
   "metadata": {},
   "outputs": [],
   "source": [
    "# data to import 'Plate ID', 'Registration State', 'Vehicle Make', 'Vehicle Color', 'Voilation Time', 'Street Name','Violation Description','Violation Code'\n",
    "\n",
    "import pandas as pd\n",
    "import seaborn as sns\n",
    "import matplotlib.pyplot as plt"
   ]
  },
  {
   "cell_type": "code",
   "execution_count": 5,
   "id": "8ed18b51",
   "metadata": {},
   "outputs": [
    {
     "data": {
      "text/html": [
       "<div>\n",
       "<style scoped>\n",
       "    .dataframe tbody tr th:only-of-type {\n",
       "        vertical-align: middle;\n",
       "    }\n",
       "\n",
       "    .dataframe tbody tr th {\n",
       "        vertical-align: top;\n",
       "    }\n",
       "\n",
       "    .dataframe thead th {\n",
       "        text-align: right;\n",
       "    }\n",
       "</style>\n",
       "<table border=\"1\" class=\"dataframe\">\n",
       "  <thead>\n",
       "    <tr style=\"text-align: right;\">\n",
       "      <th></th>\n",
       "      <th>Plate ID</th>\n",
       "      <th>Registration State</th>\n",
       "      <th>Issue Date</th>\n",
       "      <th>Violation Code</th>\n",
       "      <th>Vehicle Make</th>\n",
       "      <th>Violation Time</th>\n",
       "      <th>Street Name</th>\n",
       "      <th>Vehicle Color</th>\n",
       "      <th>Violation Description</th>\n",
       "    </tr>\n",
       "  </thead>\n",
       "  <tbody>\n",
       "    <tr>\n",
       "      <th>0</th>\n",
       "      <td>KGK6659</td>\n",
       "      <td>NY</td>\n",
       "      <td>2020-11-12</td>\n",
       "      <td>36</td>\n",
       "      <td>BMW</td>\n",
       "      <td>0637P</td>\n",
       "      <td>WB ATLANTIC AVE @ SH</td>\n",
       "      <td>GY</td>\n",
       "      <td>PHTO SCHOOL ZN SPEED VIOLATION</td>\n",
       "    </tr>\n",
       "    <tr>\n",
       "      <th>1</th>\n",
       "      <td>L5232HY</td>\n",
       "      <td>TN</td>\n",
       "      <td>2020-09-14</td>\n",
       "      <td>21</td>\n",
       "      <td>INTER</td>\n",
       "      <td>0853A</td>\n",
       "      <td>Rockaway Beach Blvd</td>\n",
       "      <td>WHITE</td>\n",
       "      <td>NaN</td>\n",
       "    </tr>\n",
       "    <tr>\n",
       "      <th>2</th>\n",
       "      <td>BPMN76</td>\n",
       "      <td>FL</td>\n",
       "      <td>2020-11-25</td>\n",
       "      <td>20</td>\n",
       "      <td>NISSA</td>\n",
       "      <td>0853A</td>\n",
       "      <td>W 113th St</td>\n",
       "      <td>BLACK</td>\n",
       "      <td>20A-No Parking (Non-COM)</td>\n",
       "    </tr>\n",
       "    <tr>\n",
       "      <th>3</th>\n",
       "      <td>57387MJ</td>\n",
       "      <td>NY</td>\n",
       "      <td>2020-08-20</td>\n",
       "      <td>38</td>\n",
       "      <td>NaN</td>\n",
       "      <td>0444P</td>\n",
       "      <td>W 33rd St</td>\n",
       "      <td>WH</td>\n",
       "      <td>NaN</td>\n",
       "    </tr>\n",
       "    <tr>\n",
       "      <th>4</th>\n",
       "      <td>M81KFJ</td>\n",
       "      <td>NJ</td>\n",
       "      <td>2020-09-09</td>\n",
       "      <td>36</td>\n",
       "      <td>TOYOT</td>\n",
       "      <td>0723A</td>\n",
       "      <td>WB FOSTER AVE @ E 18</td>\n",
       "      <td>NaN</td>\n",
       "      <td>PHTO SCHOOL ZN SPEED VIOLATION</td>\n",
       "    </tr>\n",
       "    <tr>\n",
       "      <th>...</th>\n",
       "      <td>...</td>\n",
       "      <td>...</td>\n",
       "      <td>...</td>\n",
       "      <td>...</td>\n",
       "      <td>...</td>\n",
       "      <td>...</td>\n",
       "      <td>...</td>\n",
       "      <td>...</td>\n",
       "      <td>...</td>\n",
       "    </tr>\n",
       "    <tr>\n",
       "      <th>49995</th>\n",
       "      <td>JPN4910</td>\n",
       "      <td>NY</td>\n",
       "      <td>2020-06-25</td>\n",
       "      <td>5</td>\n",
       "      <td>FORD</td>\n",
       "      <td>0342P</td>\n",
       "      <td>EB E 125TH ST @ 2ND</td>\n",
       "      <td>RD</td>\n",
       "      <td>BUS LANE VIOLATION</td>\n",
       "    </tr>\n",
       "    <tr>\n",
       "      <th>49996</th>\n",
       "      <td>174ZYG</td>\n",
       "      <td>CT</td>\n",
       "      <td>2020-08-25</td>\n",
       "      <td>31</td>\n",
       "      <td>TOYOT</td>\n",
       "      <td>0828A</td>\n",
       "      <td>W 13th St</td>\n",
       "      <td>BLACK</td>\n",
       "      <td>NaN</td>\n",
       "    </tr>\n",
       "    <tr>\n",
       "      <th>49997</th>\n",
       "      <td>HES6895</td>\n",
       "      <td>NY</td>\n",
       "      <td>2020-11-03</td>\n",
       "      <td>46</td>\n",
       "      <td>CADIL</td>\n",
       "      <td>0933P</td>\n",
       "      <td>E 182nd St</td>\n",
       "      <td>RD</td>\n",
       "      <td>NaN</td>\n",
       "    </tr>\n",
       "    <tr>\n",
       "      <th>49998</th>\n",
       "      <td>63035MN</td>\n",
       "      <td>NY</td>\n",
       "      <td>2020-08-19</td>\n",
       "      <td>40</td>\n",
       "      <td>ISUZU</td>\n",
       "      <td>1215P</td>\n",
       "      <td>W Kingsbridge Rd</td>\n",
       "      <td>WH</td>\n",
       "      <td>NaN</td>\n",
       "    </tr>\n",
       "    <tr>\n",
       "      <th>49999</th>\n",
       "      <td>AW74165</td>\n",
       "      <td>CT</td>\n",
       "      <td>2020-08-06</td>\n",
       "      <td>20</td>\n",
       "      <td>HONDA</td>\n",
       "      <td>0128P</td>\n",
       "      <td>Canal Pl</td>\n",
       "      <td>BLACK</td>\n",
       "      <td>NaN</td>\n",
       "    </tr>\n",
       "  </tbody>\n",
       "</table>\n",
       "<p>50000 rows × 9 columns</p>\n",
       "</div>"
      ],
      "text/plain": [
       "      Plate ID Registration State Issue Date  Violation Code Vehicle Make  \\\n",
       "0      KGK6659                 NY 2020-11-12              36          BMW   \n",
       "1      L5232HY                 TN 2020-09-14              21        INTER   \n",
       "2       BPMN76                 FL 2020-11-25              20        NISSA   \n",
       "3      57387MJ                 NY 2020-08-20              38          NaN   \n",
       "4       M81KFJ                 NJ 2020-09-09              36        TOYOT   \n",
       "...        ...                ...        ...             ...          ...   \n",
       "49995  JPN4910                 NY 2020-06-25               5         FORD   \n",
       "49996   174ZYG                 CT 2020-08-25              31        TOYOT   \n",
       "49997  HES6895                 NY 2020-11-03              46        CADIL   \n",
       "49998  63035MN                 NY 2020-08-19              40        ISUZU   \n",
       "49999  AW74165                 CT 2020-08-06              20        HONDA   \n",
       "\n",
       "      Violation Time           Street Name Vehicle Color  \\\n",
       "0              0637P  WB ATLANTIC AVE @ SH            GY   \n",
       "1              0853A   Rockaway Beach Blvd         WHITE   \n",
       "2              0853A            W 113th St         BLACK   \n",
       "3              0444P             W 33rd St            WH   \n",
       "4              0723A  WB FOSTER AVE @ E 18           NaN   \n",
       "...              ...                   ...           ...   \n",
       "49995          0342P   EB E 125TH ST @ 2ND            RD   \n",
       "49996          0828A             W 13th St         BLACK   \n",
       "49997          0933P            E 182nd St            RD   \n",
       "49998          1215P      W Kingsbridge Rd            WH   \n",
       "49999          0128P              Canal Pl         BLACK   \n",
       "\n",
       "                Violation Description  \n",
       "0      PHTO SCHOOL ZN SPEED VIOLATION  \n",
       "1                                 NaN  \n",
       "2            20A-No Parking (Non-COM)  \n",
       "3                                 NaN  \n",
       "4      PHTO SCHOOL ZN SPEED VIOLATION  \n",
       "...                               ...  \n",
       "49995              BUS LANE VIOLATION  \n",
       "49996                             NaN  \n",
       "49997                             NaN  \n",
       "49998                             NaN  \n",
       "49999                             NaN  \n",
       "\n",
       "[50000 rows x 9 columns]"
      ]
     },
     "execution_count": 5,
     "metadata": {},
     "output_type": "execute_result"
    }
   ],
   "source": [
    "nyc_parking_v = pd.read_excel('c:\\\\Users\\\\Josephine\\\\Downloads\\\\nyc-violation-ticket (2).xlsx',  usecols = [\"Plate ID\",\"Issue Date\", \"Registration State\", \"Vehicle Make\", \"Vehicle Color\",\"Violation Description\" ,\"Violation Time\",\"Violation Code\", \"Street Name\"])\n",
    "\n",
    "nyc_parking_v\n"
   ]
  },
  {
   "cell_type": "code",
   "execution_count": 6,
   "id": "cdf1e297",
   "metadata": {},
   "outputs": [
    {
     "data": {
      "image/png": "[encoded data removed]",
      "text/plain": [
       "<Figure size 640x480 with 1 Axes>"
      ]
     },
     "metadata": {},
     "output_type": "display_data"
    }
   ],
   "source": [
    "# What are the most commom type of violations \n",
    "common_violations= nyc_parking_v['Violation Description'].value_counts().head(10)\n",
    "#common_violations\n",
    "# Creatimg a barplot \n",
    "sns.barplot(x=common_violations.values, y=common_violations.index )\n",
    "\n",
    "plt.xlabel ('Number of Violations')\n",
    "plt.ylabel('Violations')\n",
    "plt.show()"
   ]
  },
  {
   "cell_type": "code",
   "execution_count": 6,
   "id": "ca62f0ea",
   "metadata": {},
   "outputs": [
    {
     "name": "stdout",
     "output_type": "stream",
     "text": [
      "<class 'pandas.core.frame.DataFrame'>\n",
      "RangeIndex: 50000 entries, 0 to 49999\n",
      "Data columns (total 9 columns):\n",
      " #   Column                 Non-Null Count  Dtype         \n",
      "---  ------                 --------------  -----         \n",
      " 0   Plate ID               50000 non-null  object        \n",
      " 1   Registration State     50000 non-null  object        \n",
      " 2   Issue Date             50000 non-null  datetime64[ns]\n",
      " 3   Violation Code         50000 non-null  int64         \n",
      " 4   Vehicle Make           49864 non-null  object        \n",
      " 5   Violation Time         49999 non-null  object        \n",
      " 6   Street Name            49990 non-null  object        \n",
      " 7   Vehicle Color          47583 non-null  object        \n",
      " 8   Violation Description  22802 non-null  object        \n",
      "dtypes: datetime64[ns](1), int64(1), object(7)\n",
      "memory usage: 3.4+ MB\n"
     ]
    }
   ],
   "source": [
    "nyc_parking_v.info()"
   ]
  },
  {
   "cell_type": "code",
   "execution_count": 7,
   "id": "3ee819ee",
   "metadata": {},
   "outputs": [
    {
     "data": {
      "text/plain": [
       "Plate ID                     0\n",
       "Registration State           0\n",
       "Issue Date                   0\n",
       "Violation Code               0\n",
       "Vehicle Make               136\n",
       "Violation Time               1\n",
       "Street Name                 10\n",
       "Vehicle Color             2417\n",
       "Violation Description    27198\n",
       "dtype: int64"
      ]
     },
     "execution_count": 7,
     "metadata": {},
     "output_type": "execute_result"
    }
   ],
   "source": [
    "# Missing values in the dataset\n",
    "nyc_parking_v.isnull().sum()"
   ]
  },
  {
   "cell_type": "code",
   "execution_count": 37,
   "id": "4d2abbce",
   "metadata": {},
   "outputs": [],
   "source": [
    "# Q3. How do we handle The mising values\n",
    "# Lets work on the missing values\n",
    "# The violation code for every Violation Description is distinct, We use this code to fill in the missimg values for Violation description\n",
    "# ignoring the missing values for Violation decription would grossly affect our results hence analysis, since its more than half the data.\n",
    "\n",
    "\n",
    "# Filling the empty rows of \"Violation Describtion\" using \"Violation Code\" as a referrence\n",
    " \n",
    "    # Finding all the unique violations and their respective violation codes\n",
    "viol_code = nyc_parking_v.groupby('Violation Description')['Violation Code'].unique()\n",
    " \n",
    "    # Retrieving list of unique Violation descriptions as a tuple\n",
    "violation_descriptions = tuple(viol_code.index)\n",
    " \n",
    "    # Retrieving list of unique violation codes as a tuple\n",
    "violation_codes = tuple(viol_code.to_list())\n",
    " \n",
    "    \n",
    " \n",
    " "
   ]
  },
  {
   "cell_type": "code",
   "execution_count": 38,
   "id": "71399dce",
   "metadata": {},
   "outputs": [
    {
     "data": {
      "text/plain": [
       "0    PHTO SCHOOL ZN SPEED VIOLATION\n",
       "1      21-No Parking (street clean)\n",
       "2          20A-No Parking (Non-COM)\n",
       "3    38-Failure to Dsplay Meter Rec\n",
       "4    PHTO SCHOOL ZN SPEED VIOLATION\n",
       "5    PHTO SCHOOL ZN SPEED VIOLATION\n",
       "6          20A-No Parking (Non-COM)\n",
       "7    PHTO SCHOOL ZN SPEED VIOLATION\n",
       "Name: Violation Description, dtype: object"
      ]
     },
     "execution_count": 38,
     "metadata": {},
     "output_type": "execute_result"
    }
   ],
   "source": [
    "# We fill all missing values in the Violation Description column with their corresponding Violation Code\n",
    "\n",
    "def fill_missing_values(row):\n",
    "    if pd.isnull(row['Violation Description']):  # Check if 'Violation Description' is missing\n",
    "        return row['Violation Code']  # Fill missing value with corresponding 'Violation Code'\n",
    "    else:\n",
    "        return row['Violation Description']  # Otherwise, keep the existing value\n",
    " \n",
    "# Filling in the missing values of the \"Violation Describtion\" with \"Violation Code\"\n",
    "nyc_parking_v['Violation Description'] = nyc_parking_v.apply(fill_missing_values, axis=1)\n",
    " \n",
    "    # Checking the new data of 'Violation Description'\n",
    "nyc_parking_v['Violation Description'].head(8)"
   ]
  },
  {
   "cell_type": "code",
   "execution_count": 39,
   "id": "7759406a",
   "metadata": {},
   "outputs": [
    {
     "data": {
      "text/plain": [
       "0        PHTO SCHOOL ZN SPEED VIOLATION\n",
       "1          21-No Parking (street clean)\n",
       "2              20A-No Parking (Non-COM)\n",
       "3        38-Failure to Dsplay Meter Rec\n",
       "4        PHTO SCHOOL ZN SPEED VIOLATION\n",
       "                      ...              \n",
       "49995                BUS LANE VIOLATION\n",
       "49996      31-No Stand (Com. Mtr. Zone)\n",
       "49997    46B-Double Parking (Com-100Ft)\n",
       "49998                   40-Fire Hydrant\n",
       "49999          20A-No Parking (Non-COM)\n",
       "Name: Violation Description, Length: 50000, dtype: object"
      ]
     },
     "execution_count": 39,
     "metadata": {},
     "output_type": "execute_result"
    }
   ],
   "source": [
    "\n",
    "# Finally replacing the codes in the \"Violation Description\" with the appropriate Descriptions\n",
    "nyc_parking_v['Violation Description'] = nyc_parking_v['Violation Description'].replace(violation_codes, violation_descriptions)\n",
    " \n",
    "    # Checking the new data of 'Violation Description'\n",
    "nyc_parking_v['Violation Description']"
   ]
  },
  {
   "cell_type": "code",
   "execution_count": 14,
   "id": "3eab7b54",
   "metadata": {},
   "outputs": [
    {
     "data": {
      "text/plain": [
       "Plate ID                    0\n",
       "Registration State          0\n",
       "Issue Date                  0\n",
       "Violation Code              0\n",
       "Vehicle Make              136\n",
       "Violation Time              1\n",
       "Street Name                10\n",
       "Vehicle Color            2417\n",
       "Violation Description       0\n",
       "dtype: int64"
      ]
     },
     "execution_count": 14,
     "metadata": {},
     "output_type": "execute_result"
    }
   ],
   "source": [
    "nyc_parking_v.isnull().sum()"
   ]
  },
  {
   "cell_type": "code",
   "execution_count": null,
   "id": "cd2faf60",
   "metadata": {},
   "outputs": [],
   "source": [
    "# Q4.What is the average fine amount for each violataion type\n",
    "\n",
    "# Average fine amount for each violation type\n",
    "Fine_amt =['100']\n",
    "\n",
    "\n",
    "avg_fine_viol_type= nyc_parking_v.groupby('Violation Description')[ Fine_amt].mean()\n",
    "\n",
    "avg_fine_viol_type\n",
    "\n",
    " "
   ]
  },
  {
   "cell_type": "code",
   "execution_count": 16,
   "id": "ef5b1e94",
   "metadata": {},
   "outputs": [
    {
     "data": {
      "text/html": [
       "<div>\n",
       "<style scoped>\n",
       "    .dataframe tbody tr th:only-of-type {\n",
       "        vertical-align: middle;\n",
       "    }\n",
       "\n",
       "    .dataframe tbody tr th {\n",
       "        vertical-align: top;\n",
       "    }\n",
       "\n",
       "    .dataframe thead th {\n",
       "        text-align: right;\n",
       "    }\n",
       "</style>\n",
       "<table border=\"1\" class=\"dataframe\">\n",
       "  <thead>\n",
       "    <tr style=\"text-align: right;\">\n",
       "      <th></th>\n",
       "      <th>Violation Description</th>\n",
       "      <th>Issue Date</th>\n",
       "    </tr>\n",
       "  </thead>\n",
       "  <tbody>\n",
       "    <tr>\n",
       "      <th>0</th>\n",
       "      <td>PHTO SCHOOL ZN SPEED VIOLATION</td>\n",
       "      <td>2020-11-12</td>\n",
       "    </tr>\n",
       "    <tr>\n",
       "      <th>1</th>\n",
       "      <td>21-No Parking (street clean)</td>\n",
       "      <td>2020-09-14</td>\n",
       "    </tr>\n",
       "    <tr>\n",
       "      <th>2</th>\n",
       "      <td>20A-No Parking (Non-COM)</td>\n",
       "      <td>2020-11-25</td>\n",
       "    </tr>\n",
       "    <tr>\n",
       "      <th>3</th>\n",
       "      <td>38-Failure to Dsplay Meter Rec</td>\n",
       "      <td>2020-08-20</td>\n",
       "    </tr>\n",
       "    <tr>\n",
       "      <th>4</th>\n",
       "      <td>PHTO SCHOOL ZN SPEED VIOLATION</td>\n",
       "      <td>2020-09-09</td>\n",
       "    </tr>\n",
       "    <tr>\n",
       "      <th>5</th>\n",
       "      <td>PHTO SCHOOL ZN SPEED VIOLATION</td>\n",
       "      <td>2020-09-21</td>\n",
       "    </tr>\n",
       "    <tr>\n",
       "      <th>6</th>\n",
       "      <td>20A-No Parking (Non-COM)</td>\n",
       "      <td>2020-07-14</td>\n",
       "    </tr>\n",
       "    <tr>\n",
       "      <th>7</th>\n",
       "      <td>PHTO SCHOOL ZN SPEED VIOLATION</td>\n",
       "      <td>2020-08-10</td>\n",
       "    </tr>\n",
       "    <tr>\n",
       "      <th>8</th>\n",
       "      <td>74-Missing Display Plate</td>\n",
       "      <td>2020-11-12</td>\n",
       "    </tr>\n",
       "    <tr>\n",
       "      <th>9</th>\n",
       "      <td>38-Failure to Dsplay Meter Rec</td>\n",
       "      <td>2020-10-26</td>\n",
       "    </tr>\n",
       "    <tr>\n",
       "      <th>10</th>\n",
       "      <td>PHTO SCHOOL ZN SPEED VIOLATION</td>\n",
       "      <td>2020-09-17</td>\n",
       "    </tr>\n",
       "    <tr>\n",
       "      <th>11</th>\n",
       "      <td>14-No Standing</td>\n",
       "      <td>2020-11-21</td>\n",
       "    </tr>\n",
       "    <tr>\n",
       "      <th>12</th>\n",
       "      <td>FAILURE TO STOP AT RED LIGHT</td>\n",
       "      <td>2020-10-30</td>\n",
       "    </tr>\n",
       "    <tr>\n",
       "      <th>13</th>\n",
       "      <td>PHTO SCHOOL ZN SPEED VIOLATION</td>\n",
       "      <td>2020-09-25</td>\n",
       "    </tr>\n",
       "    <tr>\n",
       "      <th>14</th>\n",
       "      <td>FAILURE TO STOP AT RED LIGHT</td>\n",
       "      <td>2020-08-11</td>\n",
       "    </tr>\n",
       "  </tbody>\n",
       "</table>\n",
       "</div>"
      ],
      "text/plain": [
       "             Violation Description Issue Date\n",
       "0   PHTO SCHOOL ZN SPEED VIOLATION 2020-11-12\n",
       "1     21-No Parking (street clean) 2020-09-14\n",
       "2         20A-No Parking (Non-COM) 2020-11-25\n",
       "3   38-Failure to Dsplay Meter Rec 2020-08-20\n",
       "4   PHTO SCHOOL ZN SPEED VIOLATION 2020-09-09\n",
       "5   PHTO SCHOOL ZN SPEED VIOLATION 2020-09-21\n",
       "6         20A-No Parking (Non-COM) 2020-07-14\n",
       "7   PHTO SCHOOL ZN SPEED VIOLATION 2020-08-10\n",
       "8         74-Missing Display Plate 2020-11-12\n",
       "9   38-Failure to Dsplay Meter Rec 2020-10-26\n",
       "10  PHTO SCHOOL ZN SPEED VIOLATION 2020-09-17\n",
       "11                  14-No Standing 2020-11-21\n",
       "12    FAILURE TO STOP AT RED LIGHT 2020-10-30\n",
       "13  PHTO SCHOOL ZN SPEED VIOLATION 2020-09-25\n",
       "14    FAILURE TO STOP AT RED LIGHT 2020-08-11"
      ]
     },
     "execution_count": 16,
     "metadata": {},
     "output_type": "execute_result"
    }
   ],
   "source": [
    "# Directly select the specific columns you want to keep\n",
    "nyc_parking_v_df =nyc_parking_v[[\"Violation Description\", \"Issue Date\"]]\n",
    "# Display filtered Data Frame\n",
    "nyc_parking_v_df.head(15)"
   ]
  },
  {
   "cell_type": "code",
   "execution_count": 41,
   "id": "17923760",
   "metadata": {},
   "outputs": [
    {
     "name": "stdout",
     "output_type": "stream",
     "text": [
      "Number of variations for each month is: \n"
     ]
    },
    {
     "data": {
      "text/plain": [
       "Issue Date\n",
       "2010-10-31    1\n",
       "2010-11-30    0\n",
       "2010-12-31    0\n",
       "2011-01-31    0\n",
       "2011-02-28    0\n",
       "2011-03-31    0\n",
       "2011-04-30    0\n",
       "2011-05-31    0\n",
       "2011-06-30    0\n",
       "2011-07-31    0\n",
       "2011-08-31    0\n",
       "2011-09-30    0\n",
       "2011-10-31    0\n",
       "2011-11-30    0\n",
       "2011-12-31    0\n",
       "Freq: ME, dtype: int64"
      ]
     },
     "execution_count": 41,
     "metadata": {},
     "output_type": "execute_result"
    }
   ],
   "source": [
    "\n",
    "nyc_parking_v[\"Issue Date\"] = pd.to_datetime(nyc_parking_v[\"Issue Date\"])\n",
    "\n",
    "# Determine the number of violations for each month\n",
    "yearly_violations = nyc_parking_v.resample(\"ME\", on = \"Issue Date\").size()\n",
    "print('Number of variations for each month is: ')\n",
    "yearly_violations.head(15)\n",
    "\n",
    "\n"
   ]
  },
  {
   "cell_type": "code",
   "execution_count": 48,
   "id": "f057bd60",
   "metadata": {},
   "outputs": [
    {
     "data": {
      "text/plain": [
       "Issue Date\n",
       "1         0\n",
       "2         2\n",
       "3         0\n",
       "4         0\n",
       "5       101\n",
       "6      1839\n",
       "7      7900\n",
       "8     10658\n",
       "9     11021\n",
       "10    10797\n",
       "11     7676\n",
       "12        1\n",
       "dtype: int64"
      ]
     },
     "execution_count": 48,
     "metadata": {},
     "output_type": "execute_result"
    }
   ],
   "source": [
    "\n",
    "# Calculating the monthly trends\n",
    " \n",
    "# Group the filtered DataFrame by month and find the maximum value within each month\n",
    "monthly_violations = yearly_violations.groupby([yearly_violations.index.month]).max()  # This returns the months of the year with the max violations\n",
    "\n",
    "monthly_violations"
   ]
  },
  {
   "cell_type": "code",
   "execution_count": 44,
   "id": "fdc591c0",
   "metadata": {},
   "outputs": [
    {
     "name": "stdout",
     "output_type": "stream",
     "text": [
      "********** A GRAPH SHOWING THE CHANGE IN FREQUENCY OF␣PARKING VIOLATIONS OVER TIME **********\n"
     ]
    },
    {
     "data": {
      "image/png": "[encoded data removed]",
      "text/plain": [
       "<Figure size 640x480 with 1 Axes>"
      ]
     },
     "metadata": {},
     "output_type": "display_data"
    }
   ],
   "source": [
    "\n",
    "# Obtaining only the months\n",
    "months = monthly_violations.index\n",
    " \n",
    "# Obtaining the sum of violations of those months\n",
    "no_of_violations = monthly_violations.to_list()\n",
    " \n",
    "# Plotting a graph to represent the data\n",
    "plt.plot(months, no_of_violations, marker='o', label='Violations')\n",
    " \n",
    "for i, (x, y) in enumerate(zip(months, no_of_violations)):\n",
    "    plt.text(x, y, f'{y}', ha='left', va='bottom')  # Adding y-values as annotations\n",
    " \n",
    "plt.xlabel('Months')\n",
    "\n",
    "plt.ylabel('Number of Violations')\n",
    "\n",
    "plt.title('Violations Change Over The Months')\n",
    "print(\"********** A GRAPH SHOWING THE CHANGE IN FREQUENCY OF␣PARKING VIOLATIONS OVER TIME **********\")\n",
    "\n",
    "plt.show()"
   ]
  },
  {
   "cell_type": "code",
   "execution_count": null,
   "id": "ff0834b8",
   "metadata": {},
   "outputs": [],
   "source": []
  }
 ],
 "metadata": {
  "kernelspec": {
   "display_name": "Python 3 (ipykernel)",
   "language": "python",
   "name": "python3"
  },
  "language_info": {
   "codemirror_mode": {
    "name": "ipython",
    "version": 3
   },
   "file_extension": ".py",
   "mimetype": "text/x-python",
   "name": "python",
   "nbconvert_exporter": "python",
   "pygments_lexer": "ipython3",
   "version": "3.11.4"
  }
 },
 "nbformat": 4,
 "nbformat_minor": 5
}
